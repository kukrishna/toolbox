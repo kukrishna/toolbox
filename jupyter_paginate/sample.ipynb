{
 "cells": [
  {
   "cell_type": "code",
   "execution_count": 12,
   "metadata": {},
   "outputs": [],
   "source": [
    "from paginate import Paginate\n",
    "import difflib\n",
    "import nltk"
   ]
  },
  {
   "cell_type": "code",
   "execution_count": 13,
   "metadata": {},
   "outputs": [],
   "source": [
    "txt1='''Carnegie Mellon University (CMU) is a private research university based in Pittsburgh, Pennsylvania. In 1967, the Carnegie Institute of Technology merged with the Mellon Institute of Industrial Research to form Carnegie Mellon University.'''\n",
    "txt2='''Carnegie Mellon University (CMU) is a private research university based in Pittsburgh, Pennsylvania. Founded in 1900 by Andrew Carnegie as the Carnegie Technical Schools, the university became the Carnegie Institute of Technology in 1912. In 1967, the Carnegie Institute of Technology merged with the Mellon Institute of Industrial Research to form Carnegie Mellon University.'''\n",
    "txt3='''Carnegie Mellon University (CMU) is a private research university based in Pittsburgh, Pennsylvania. Founded by Andrew Carnegie as the Carnegie Technical Schools, the university became the Carnegie Institute of Technology in 1912 and began granting four-year degrees. In 1967, the Carnegie Institute of Technology merged with the Mellon Institute of Industrial Research to form Carnegie Mellon University.'''"
   ]
  },
  {
   "cell_type": "code",
   "execution_count": 20,
   "metadata": {},
   "outputs": [],
   "source": [
    "doc_seq=[txt1, txt2, txt3]"
   ]
  },
  {
   "cell_type": "code",
   "execution_count": 25,
   "metadata": {},
   "outputs": [
    {
     "data": {
      "text/html": [
       "\n",
       "<div ng-app=\"testAppd06f0920732a41a4b6c4efede68eb3e0\">\n",
       "  <div id=\"rootElementd06f0920732a41a4b6c4efede68eb3e0\" ng-controller=\"testControllerd06f0920732a41a4b6c4efede68eb3e0\">\n",
       "    <h1>{{title}}</h1>\n",
       "    \n",
       "    <div style=\"height:150px; overflow:scroll;\" class=\"myTextd06f0920732a41a4b6c4efede68eb3e0\"></div>\n",
       "\n",
       "    <div>\n",
       "        <button\n",
       "          ng-disabled=\"currentPage == 0\"\n",
       "          ng-click=\"currentPage=currentPage-1\"\n",
       "        >\n",
       "          Previous\n",
       "        </button>\n",
       "\n",
       "        Page {{currentPage+1}} of {{numberOfPages()}}\n",
       "\n",
       "        <button\n",
       "           ng-disabled=\"currentPage >= data.length/pageSize - 1\"\n",
       "           ng-click=\"currentPage=currentPage+1\"\n",
       "        >\n",
       "          Next\n",
       "        </button>\n",
       "    <div>\n",
       "    \n",
       "  </div>\n",
       "</div>\n"
      ]
     },
     "metadata": {},
     "output_type": "display_data"
    },
    {
     "data": {
      "application/javascript": [
       "var title='sequence of documents';\n",
       "var data=[\"Carnegie Mellon University (CMU) is a private research university based in Pittsburgh, Pennsylvania. In 1967, the Carnegie Institute of Technology merged with the Mellon Institute of Industrial Research to form Carnegie Mellon University.\", \"Carnegie Mellon University (CMU) is a private research university based in Pittsburgh, Pennsylvania. Founded in 1900 by Andrew Carnegie as the Carnegie Technical Schools, the university became the Carnegie Institute of Technology in 1912. In 1967, the Carnegie Institute of Technology merged with the Mellon Institute of Industrial Research to form Carnegie Mellon University.\", \"Carnegie Mellon University (CMU) is a private research university based in Pittsburgh, Pennsylvania. Founded by Andrew Carnegie as the Carnegie Technical Schools, the university became the Carnegie Institute of Technology in 1912 and began granting four-year degrees. In 1967, the Carnegie Institute of Technology merged with the Mellon Institute of Industrial Research to form Carnegie Mellon University.\"];\n",
       "var uuid='d06f0920732a41a4b6c4efede68eb3e0';\n",
       "\n",
       "//require needs to be configed with the dependencies\n",
       "require.config({\n",
       "    paths: {\n",
       "        velocity: \"https://cdn.jsdelivr.net/velocity/1.2.3/velocity.min\",\n",
       "        interact: \"https://cdn.jsdelivr.net/interact.js/1.2.6/interact.min\",\n",
       "        angular: \"https://cdnjs.cloudflare.com/ajax/libs/angular.js/1.5.8/angular.min\"\n",
       "       },\n",
       "    shim: {\n",
       "        'angular': {\n",
       "            exports: 'angular'\n",
       "        }\n",
       "    }\n",
       "});\n",
       "\n",
       "\n",
       "require(['angular','jquery'], function(a,$) {\n",
       "              \n",
       "\n",
       "      (function(){\n",
       "        var app = a.module('testApp'+uuid,[]);    \n",
       "    \n",
       "        app.controller('testController'+uuid, function($scope){\n",
       "          $scope.title = title;\n",
       "          $scope.currentPage = 0;\n",
       "          $scope.pageSize = 1;\n",
       "          $scope.data = data;\n",
       "\n",
       "          $scope.numberOfPages= () => {\n",
       "            return Math.ceil(\n",
       "              $scope.data.length / $scope.pageSize\n",
       "            );\n",
       "          }\n",
       "\n",
       "\n",
       "            \n",
       "          $scope.$watch( \"currentPage\", function(newVal, oldVal, scope){\n",
       "              $(\".myText\"+uuid).html(data[newVal]);\n",
       "          } );  \n",
       "            \n",
       "\n",
       "        });\n",
       "\n",
       "        app.filter('startFrom', function() {\n",
       "          return (input, start) => {\n",
       "            start = +start; //parse to int\n",
       "            return input.slice(start);\n",
       "          }\n",
       "        });\n",
       "        \n",
       "        \n",
       "          \n",
       "        var el = document.getElementById(\"rootElement\"+uuid);\n",
       "        if(a.element(el).injector()){\n",
       "            a.element(el).injector().get('$rootScope').$destroy()\n",
       "        }  \n",
       "          \n",
       "        a.element(document).ready(function() {\n",
       "                  a.bootstrap(el, ['testApp'+uuid]);\n",
       "                });        \n",
       "          \n",
       "          \n",
       "      })();\n",
       "    \n",
       "    });\n"
      ]
     },
     "metadata": {},
     "output_type": "display_data"
    }
   ],
   "source": [
    "Paginate(doc_seq, \"sequence of documents\", \"150px\")"
   ]
  },
  {
   "cell_type": "code",
   "execution_count": null,
   "metadata": {},
   "outputs": [],
   "source": []
  },
  {
   "cell_type": "code",
   "execution_count": 16,
   "metadata": {},
   "outputs": [],
   "source": [
    "def showdiff(fr, to):\n",
    "    differ = difflib.Differ()\n",
    "    html=\"\"\n",
    "\n",
    "    for entry in differ.compare(nltk.sent_tokenize(fr), nltk.sent_tokenize(to)):\n",
    "        if entry[0]==\"+\":\n",
    "            html+=\"<tt style='white-space: pre;background-color:lightgreen'>\"+entry+\"</tt><br>\"\n",
    "        elif entry[0]==\"-\":\n",
    "            html+=\"<tt style='white-space: pre;background-color:lightcoral'>\"+entry+\"</tt><br>\"\n",
    "        else:\n",
    "            html+=\"<tt style='white-space: pre;'>\"+entry+\"</tt><br>\"\n",
    "\n",
    "    return html"
   ]
  },
  {
   "cell_type": "code",
   "execution_count": 26,
   "metadata": {},
   "outputs": [],
   "source": [
    "doc_seq=[\"\", txt1, txt2, txt3]"
   ]
  },
  {
   "cell_type": "code",
   "execution_count": 27,
   "metadata": {},
   "outputs": [
    {
     "data": {
      "text/html": [
       "\n",
       "<div ng-app=\"testApp3aa47415307946458c5a9f2d25160b44\">\n",
       "  <div id=\"rootElement3aa47415307946458c5a9f2d25160b44\" ng-controller=\"testController3aa47415307946458c5a9f2d25160b44\">\n",
       "    <h1>{{title}}</h1>\n",
       "    \n",
       "    <div style=\"height:200px; overflow:scroll;\" class=\"myText3aa47415307946458c5a9f2d25160b44\"></div>\n",
       "\n",
       "    <div>\n",
       "        <button\n",
       "          ng-disabled=\"currentPage == 0\"\n",
       "          ng-click=\"currentPage=currentPage-1\"\n",
       "        >\n",
       "          Previous\n",
       "        </button>\n",
       "\n",
       "        Page {{currentPage+1}} of {{numberOfPages()}}\n",
       "\n",
       "        <button\n",
       "           ng-disabled=\"currentPage >= data.length/pageSize - 1\"\n",
       "           ng-click=\"currentPage=currentPage+1\"\n",
       "        >\n",
       "          Next\n",
       "        </button>\n",
       "    <div>\n",
       "    \n",
       "  </div>\n",
       "</div>\n"
      ]
     },
     "metadata": {},
     "output_type": "display_data"
    },
    {
     "data": {
      "application/javascript": [
       "var title='diffs over time';\n",
       "var data=[\"<tt style='white-space: pre;background-color:lightgreen'>+ Carnegie Mellon University (CMU) is a private research university based in Pittsburgh, Pennsylvania.</tt><br><tt style='white-space: pre;background-color:lightgreen'>+ In 1967, the Carnegie Institute of Technology merged with the Mellon Institute of Industrial Research to form Carnegie Mellon University.</tt><br>\", \"<tt style='white-space: pre;'>  Carnegie Mellon University (CMU) is a private research university based in Pittsburgh, Pennsylvania.</tt><br><tt style='white-space: pre;background-color:lightgreen'>+ Founded in 1900 by Andrew Carnegie as the Carnegie Technical Schools, the university became the Carnegie Institute of Technology in 1912.</tt><br><tt style='white-space: pre;'>  In 1967, the Carnegie Institute of Technology merged with the Mellon Institute of Industrial Research to form Carnegie Mellon University.</tt><br>\", \"<tt style='white-space: pre;'>  Carnegie Mellon University (CMU) is a private research university based in Pittsburgh, Pennsylvania.</tt><br><tt style='white-space: pre;background-color:lightcoral'>- Founded in 1900 by Andrew Carnegie as the Carnegie Technical Schools, the university became the Carnegie Institute of Technology in 1912.</tt><br><tt style='white-space: pre;'>?        --------\\n</tt><br><tt style='white-space: pre;background-color:lightgreen'>+ Founded by Andrew Carnegie as the Carnegie Technical Schools, the university became the Carnegie Institute of Technology in 1912 and began granting four-year degrees.</tt><br><tt style='white-space: pre;'>?                                                                                                                                 +++++++++++++++++++++++++++++++++++++\\n</tt><br><tt style='white-space: pre;'>  In 1967, the Carnegie Institute of Technology merged with the Mellon Institute of Industrial Research to form Carnegie Mellon University.</tt><br>\"];\n",
       "var uuid='3aa47415307946458c5a9f2d25160b44';\n",
       "\n",
       "//require needs to be configed with the dependencies\n",
       "require.config({\n",
       "    paths: {\n",
       "        velocity: \"https://cdn.jsdelivr.net/velocity/1.2.3/velocity.min\",\n",
       "        interact: \"https://cdn.jsdelivr.net/interact.js/1.2.6/interact.min\",\n",
       "        angular: \"https://cdnjs.cloudflare.com/ajax/libs/angular.js/1.5.8/angular.min\"\n",
       "       },\n",
       "    shim: {\n",
       "        'angular': {\n",
       "            exports: 'angular'\n",
       "        }\n",
       "    }\n",
       "});\n",
       "\n",
       "\n",
       "require(['angular','jquery'], function(a,$) {\n",
       "              \n",
       "\n",
       "      (function(){\n",
       "        var app = a.module('testApp'+uuid,[]);    \n",
       "    \n",
       "        app.controller('testController'+uuid, function($scope){\n",
       "          $scope.title = title;\n",
       "          $scope.currentPage = 0;\n",
       "          $scope.pageSize = 1;\n",
       "          $scope.data = data;\n",
       "\n",
       "          $scope.numberOfPages= () => {\n",
       "            return Math.ceil(\n",
       "              $scope.data.length / $scope.pageSize\n",
       "            );\n",
       "          }\n",
       "\n",
       "\n",
       "            \n",
       "          $scope.$watch( \"currentPage\", function(newVal, oldVal, scope){\n",
       "              $(\".myText\"+uuid).html(data[newVal]);\n",
       "          } );  \n",
       "            \n",
       "\n",
       "        });\n",
       "\n",
       "        app.filter('startFrom', function() {\n",
       "          return (input, start) => {\n",
       "            start = +start; //parse to int\n",
       "            return input.slice(start);\n",
       "          }\n",
       "        });\n",
       "        \n",
       "        \n",
       "          \n",
       "        var el = document.getElementById(\"rootElement\"+uuid);\n",
       "        if(a.element(el).injector()){\n",
       "            a.element(el).injector().get('$rootScope').$destroy()\n",
       "        }  \n",
       "          \n",
       "        a.element(document).ready(function() {\n",
       "                  a.bootstrap(el, ['testApp'+uuid]);\n",
       "                });        \n",
       "          \n",
       "          \n",
       "      })();\n",
       "    \n",
       "    });\n"
      ]
     },
     "metadata": {},
     "output_type": "display_data"
    }
   ],
   "source": [
    "Paginate([showdiff(x,y) for x,y in zip(doc_seq[:-1], doc_seq[1:])], \"diffs over time\", \"200px\")"
   ]
  },
  {
   "cell_type": "code",
   "execution_count": null,
   "metadata": {},
   "outputs": [],
   "source": []
  },
  {
   "cell_type": "code",
   "execution_count": null,
   "metadata": {},
   "outputs": [],
   "source": []
  },
  {
   "cell_type": "code",
   "execution_count": null,
   "metadata": {},
   "outputs": [],
   "source": []
  }
 ],
 "metadata": {
  "kernelspec": {
   "display_name": "Python 3",
   "language": "python",
   "name": "python3"
  },
  "language_info": {
   "codemirror_mode": {
    "name": "ipython",
    "version": 3
   },
   "file_extension": ".py",
   "mimetype": "text/x-python",
   "name": "python",
   "nbconvert_exporter": "python",
   "pygments_lexer": "ipython3",
   "version": "3.6.7"
  },
  "varInspector": {
   "cols": {
    "lenName": 16,
    "lenType": 16,
    "lenVar": 40
   },
   "kernels_config": {
    "python": {
     "delete_cmd_postfix": "",
     "delete_cmd_prefix": "del ",
     "library": "var_list.py",
     "varRefreshCmd": "print(var_dic_list())"
    },
    "r": {
     "delete_cmd_postfix": ") ",
     "delete_cmd_prefix": "rm(",
     "library": "var_list.r",
     "varRefreshCmd": "cat(var_dic_list()) "
    }
   },
   "types_to_exclude": [
    "module",
    "function",
    "builtin_function_or_method",
    "instance",
    "_Feature"
   ],
   "window_display": false
  }
 },
 "nbformat": 4,
 "nbformat_minor": 2
}
